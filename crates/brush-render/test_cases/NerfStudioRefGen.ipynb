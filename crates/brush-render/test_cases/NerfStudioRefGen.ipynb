{
  "cells": [
    {
      "cell_type": "markdown",
      "metadata": {
        "id": "Szsv6iHVooDq"
      },
      "source": [
        "# Generate some reference images & gradients."
      ]
    },
    {
      "cell_type": "code",
      "execution_count": 2,
      "metadata": {
        "id": "2vhrNCZ4rrap"
      },
      "outputs": [],
      "source": [
        "#@title: Imports\n",
        "# Train a whole image, see how that progresses for reference.\n",
        "# Maybe capture first training step as something... ?\n",
        "import math\n",
        "import os\n",
        "import time\n",
        "from pathlib import Path\n",
        "import mediapy\n",
        "\n",
        "import numpy as np\n",
        "import torch\n",
        "from gsplat import project_gaussians\n",
        "from gsplat import rasterize_gaussians\n",
        "from gsplat import spherical_harmonics\n",
        "\n",
        "import matplotlib.pyplot as plt\n",
        "\n",
        "from PIL import Image\n",
        "\n",
        "from safetensors import safe_open\n",
        "from safetensors.torch import save_file"
      ]
    },
    {
      "cell_type": "code",
      "execution_count": 3,
      "metadata": {},
      "outputs": [],
      "source": [
        "def image_path_to_tensor(image_path: Path):\n",
        "    import torchvision.transforms as transforms\n",
        "    img = Image.open(image_path)\n",
        "    transform = transforms.ToTensor()\n",
        "    img_tensor = transform(img).permute(1, 2, 0)[..., :3]\n",
        "    return img_tensor.to(\"cuda:0\")"
      ]
    },
    {
      "cell_type": "code",
      "execution_count": 4,
      "metadata": {},
      "outputs": [],
      "source": [
        "# Helper functions\n",
        "def fov_to_focal(fov: float, img_size: int) -> float: \n",
        "    return 0.5 * float(img_size) / math.tan(0.5 * fov)"
      ]
    },
    {
      "cell_type": "code",
      "execution_count": 5,
      "metadata": {
        "colab": {
          "base_uri": "https://localhost:8080/",
          "height": 535
        },
        "id": "0c_M7ukworEg",
        "outputId": "14b4df47-1606-4ea5-a3c1-1c6bb2273cd2"
      },
      "outputs": [],
      "source": [
        "crab_img = image_path_to_tensor(\"./crab.png\")\n",
        "device = torch.device(\"cuda:0\")\n",
        "\n",
        "def execute_test(means, log_scales, quats, coeffs, opacities, viewmat, name: str):\n",
        "    background = torch.zeros(3, device=device)\n",
        "\n",
        "    means.requires_grad = True\n",
        "    log_scales.requires_grad = True\n",
        "    quats.requires_grad = True\n",
        "    coeffs.requires_grad = True\n",
        "    opacities.requires_grad = True\n",
        "    viewmat.requires_grad = False\n",
        "\n",
        "    fov_x = math.pi / 2.0\n",
        "    H, W, _ = crab_img.shape\n",
        "    focal = fov_to_focal(fov_x, W)\n",
        "\n",
        "    B_SIZE = 16\n",
        "\n",
        "    (\n",
        "        xys,\n",
        "        depths,\n",
        "        radii,\n",
        "        conics,\n",
        "        _compensation,\n",
        "        num_tiles_hit,\n",
        "        _cov3d,\n",
        "    ) = project_gaussians(\n",
        "        means,\n",
        "        log_scales.exp(),\n",
        "        1,\n",
        "        quats,\n",
        "        viewmat,\n",
        "        focal,\n",
        "        focal,\n",
        "        W / 2,\n",
        "        H / 2,\n",
        "        H,\n",
        "        W,\n",
        "        B_SIZE,\n",
        "        0.01\n",
        "    )\n",
        "\n",
        "    viewdirs = means - viewmat[:3, 3]  # (N, 3)\n",
        "    colors = spherical_harmonics(0, viewdirs, coeffs) + 0.5\n",
        "\n",
        "    out_img = rasterize_gaussians(\n",
        "        xys,\n",
        "        depths,\n",
        "        radii,\n",
        "        conics,\n",
        "        num_tiles_hit,\n",
        "        colors,\n",
        "        torch.sigmoid(opacities[:, None]),\n",
        "        H,\n",
        "        W,\n",
        "        B_SIZE,\n",
        "        background,\n",
        "    )[..., :3]\n",
        "    out_img.retain_grad()\n",
        "    conics.retain_grad()\n",
        "    xys.retain_grad()\n",
        "    mediapy.show_image((out_img.detach().cpu().numpy() * 255.0).astype(np.uint8), width=W*4, height=H*4)\n",
        "\n",
        "    loss = ((out_img - crab_img) ** 2).mean()\n",
        "    loss.backward()\n",
        "    tensors = {\n",
        "        \"means\": means,\n",
        "        \"scales\": log_scales,\n",
        "        \"coeffs\": coeffs,\n",
        "        \"quats\": quats,\n",
        "        \"opacities\": opacities,\n",
        "        \"depths\": depths,\n",
        "        \"xys\": xys,\n",
        "        \"radii\": radii,\n",
        "        \"conics\": conics,\n",
        "        \"out_img\": out_img,\n",
        "\n",
        "        \"v_xy\": xys.grad,\n",
        "        \"v_conics\": conics.grad,\n",
        "\n",
        "\n",
        "        \"v_means\": means.grad,\n",
        "        \"v_scales\": log_scales.grad,\n",
        "        \"v_coeffs\": coeffs.grad,\n",
        "        \"v_quats\": quats.grad,\n",
        "        \"v_opacities\": opacities.grad,\n",
        "        \"v_out_img\": out_img.grad,\n",
        "    }\n",
        "    save_file(tensors, f\"./{name}.safetensors\")"
      ]
    },
    {
      "cell_type": "code",
      "execution_count": 6,
      "metadata": {},
      "outputs": [
        {
          "name": "stderr",
          "output_type": "stream",
          "text": [
            "c:\\Users\\A-Bru\\anaconda3\\envs\\nerfstudio\\lib\\site-packages\\torch\\utils\\cpp_extension.py:1965: UserWarning: TORCH_CUDA_ARCH_LIST is not set, all archs for visible cards are included for compilation. \n",
            "If this is not desired, please set os.environ['TORCH_CUDA_ARCH_LIST'].\n",
            "  warnings.warn(\n"
          ]
        },
        {
          "data": {
            "text/html": [
              "<table class=\"show_images\" style=\"border-spacing:0px;\"><tr><td style=\"padding:1px;\"><img width=\"492\" height=\"328\" style=\"image-rendering:pixelated; object-fit:cover;\" src=\"data:image/png;base64,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\"/></td></tr></table>"
            ],
            "text/plain": [
              "<IPython.core.display.HTML object>"
            ]
          },
          "metadata": {},
          "output_type": "display_data"
        }
      ],
      "source": [
        "\n",
        "# Super simple case: a few splats visibile in a tiny image.\n",
        "def test_case():\n",
        "    torch.manual_seed(14)\n",
        "    num_points = 4\n",
        "    means = 10.5 * (torch.rand(num_points, 3, device=device) - 0.5)\n",
        "    log_scales = (torch.rand(num_points, 3, device=device) * 2.5).log()\n",
        "    coeffs = torch.rand(num_points, 1, 3, device=device)\n",
        "    u = torch.rand(num_points, 1, device=device)\n",
        "    v = torch.rand(num_points, 1, device=device)\n",
        "    w = torch.rand(num_points, 1, device=device)\n",
        "    quats = torch.cat(\n",
        "        [\n",
        "            torch.sqrt(1.0 - u) * torch.sin(2.0 * math.pi * v),\n",
        "            torch.sqrt(1.0 - u) * torch.cos(2.0 * math.pi * v),\n",
        "            torch.sqrt(u) * torch.sin(2.0 * math.pi * w),\n",
        "            torch.sqrt(u) * torch.cos(2.0 * math.pi * w),\n",
        "        ],\n",
        "        -1,\n",
        "    )\n",
        "    opacities = torch.rand(num_points, device=device) * 0.5 + 0.5\n",
        "\n",
        "    # TODO: Our coords are flipped or?\n",
        "    viewmat = torch.tensor(\n",
        "        [\n",
        "            [1.0, 0.0, 0.0, 0.0],\n",
        "            [0.0, 1.0, 0.0, 0.0],\n",
        "            [0.0, 0.0, 1.0, 8.0],\n",
        "            [0.0, 0.0, 0.0, 1.0],\n",
        "        ],\n",
        "        device=device,\n",
        "    )\n",
        "    execute_test(means, log_scales, quats, coeffs, opacities, viewmat, \"tiny_case\")\n",
        "\n",
        "test_case()"
      ]
    },
    {
      "cell_type": "code",
      "execution_count": 7,
      "metadata": {},
      "outputs": [
        {
          "data": {
            "text/html": [
              "<table class=\"show_images\" style=\"border-spacing:0px;\"><tr><td style=\"padding:1px;\"><img width=\"492\" height=\"328\" style=\"image-rendering:pixelated; object-fit:cover;\" src=\"data:image/png;base64,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\"/></td></tr></table>"
            ],
            "text/plain": [
              "<IPython.core.display.HTML object>"
            ]
          },
          "metadata": {},
          "output_type": "display_data"
        }
      ],
      "source": [
        "\n",
        "# Simple case: a few splats visibile in a tiny image.\n",
        "def test_case():\n",
        "    torch.manual_seed(3)\n",
        "    num_points = 16\n",
        "    means = 10.0 * (torch.rand(num_points, 3, device=device) - 0.5)\n",
        "    log_scales = torch.rand(num_points, 3, device=device).log() * 0.5\n",
        "    coeffs = torch.rand(num_points, 1, 3, device=device)\n",
        "    u = torch.rand(num_points, 1, device=device)\n",
        "    v = torch.rand(num_points, 1, device=device)\n",
        "    w = torch.rand(num_points, 1, device=device)\n",
        "    quats = torch.cat(\n",
        "        [\n",
        "            torch.sqrt(1.0 - u) * torch.sin(2.0 * math.pi * v),\n",
        "            torch.sqrt(1.0 - u) * torch.cos(2.0 * math.pi * v),\n",
        "            torch.sqrt(u) * torch.sin(2.0 * math.pi * w),\n",
        "            torch.sqrt(u) * torch.cos(2.0 * math.pi * w),\n",
        "        ],\n",
        "        -1,\n",
        "    )\n",
        "    opacities = torch.rand(num_points, device=device) * 0.5 + 0.5\n",
        "\n",
        "    # TODO: Our coords are flipped or?\n",
        "    viewmat = torch.tensor(\n",
        "        [\n",
        "            [1.0, 0.0, 0.0, 0.0],\n",
        "            [0.0, 1.0, 0.0, 0.0],\n",
        "            [0.0, 0.0, 1.0, 8.0],\n",
        "            [0.0, 0.0, 0.0, 1.0],\n",
        "        ],\n",
        "        device=device,\n",
        "    )\n",
        "    execute_test(means, log_scales, quats, coeffs, opacities, viewmat, \"basic_case\")\n",
        "\n",
        "test_case()\n"
      ]
    },
    {
      "cell_type": "code",
      "execution_count": 8,
      "metadata": {},
      "outputs": [
        {
          "data": {
            "text/html": [
              "<table class=\"show_images\" style=\"border-spacing:0px;\"><tr><td style=\"padding:1px;\"><img width=\"492\" height=\"328\" style=\"image-rendering:pixelated; object-fit:cover;\" src=\"data:image/png;base64,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\"/></td></tr></table>"
            ],
            "text/plain": [
              "<IPython.core.display.HTML object>"
            ]
          },
          "metadata": {},
          "output_type": "display_data"
        }
      ],
      "source": [
        "\n",
        "# Super simple case: a few splats visibile in a tiny image.\n",
        "def test_case():\n",
        "    torch.manual_seed(4)\n",
        "    device = torch.device(\"cuda:0\")\n",
        "    num_points = 76873\n",
        "\n",
        "    means = 2000.0 * (torch.rand(num_points, 3, device=device) - 0.5)\n",
        "    log_scales = (torch.rand(num_points, 3, device=device) * 15.0 + 0.05).log()\n",
        "    coeffs = torch.rand(num_points, 1, 3, device=device) * 2.0 - 1.0\n",
        "    u = torch.rand(num_points, 1, device=device)\n",
        "    v = torch.rand(num_points, 1, device=device)\n",
        "    w = torch.rand(num_points, 1, device=device)\n",
        "    quats = torch.cat(\n",
        "        [\n",
        "            torch.sqrt(1.0 - u) * torch.sin(2.0 * math.pi * v),\n",
        "            torch.sqrt(1.0 - u) * torch.cos(2.0 * math.pi * v),\n",
        "            torch.sqrt(u) * torch.sin(2.0 * math.pi * w),\n",
        "            torch.sqrt(u) * torch.cos(2.0 * math.pi * w),\n",
        "        ],\n",
        "        -1,\n",
        "    )\n",
        "    opacities = torch.rand(num_points, device=device)\n",
        "    viewmat = torch.tensor(\n",
        "        [\n",
        "            [1.0, 0.0, 0.0, 0.0],\n",
        "            [0.0, 1.0, 0.0, 0.0],\n",
        "            [0.0, 0.0, 1.0, 8.0],\n",
        "            [0.0, 0.0, 0.0, 1.0],\n",
        "        ],\n",
        "        device=device,\n",
        "    )\n",
        "    execute_test(means, log_scales, quats, coeffs, opacities, viewmat, \"mix_case\")\n",
        "\n",
        "test_case()"
      ]
    },
    {
      "cell_type": "code",
      "execution_count": 18,
      "metadata": {},
      "outputs": [],
      "source": [
        "# Very basic benchmark of some stuff.\n",
        "def benchmark(iter, num_points):\n",
        "    torch.manual_seed(4)\n",
        "\n",
        "    # Generate input data.\n",
        "    means = 1000.0 * (torch.rand(num_points, 3, device=device) - 0.5)\n",
        "    log_scales = (torch.rand(num_points, 3, device=device) * 15.0 + 0.05).log()\n",
        "    coeffs = torch.rand(num_points, 1, 3, device=device) * 2.0 - 1.0\n",
        "    \n",
        "    u = torch.rand(num_points, 1, device=device)\n",
        "    v = torch.rand(num_points, 1, device=device)\n",
        "    w = torch.rand(num_points, 1, device=device)\n",
        "    \n",
        "    quats = torch.cat(\n",
        "        [\n",
        "            torch.sqrt(1.0 - u) * torch.sin(2.0 * math.pi * v),\n",
        "            torch.sqrt(1.0 - u) * torch.cos(2.0 * math.pi * v),\n",
        "            torch.sqrt(u) * torch.sin(2.0 * math.pi * w),\n",
        "            torch.sqrt(u) * torch.cos(2.0 * math.pi * w),\n",
        "        ],\n",
        "        -1,\n",
        "    )\n",
        "    \n",
        "    opacities = torch.rand(num_points, device=device)\n",
        "    viewmat = torch.tensor(\n",
        "        [\n",
        "            [1.0, 0.0, 0.0, 0.0],\n",
        "            [0.0, 1.0, 0.0, 0.0],\n",
        "            [0.0, 0.0, 1.0, 8.0],\n",
        "            [0.0, 0.0, 0.0, 1.0],\n",
        "        ],\n",
        "        device=device,\n",
        "    )\n",
        "\n",
        "    crab_img = image_path_to_tensor(\"./crab.png\")\n",
        "    crab_img = crab_img.to(device)\n",
        "    background = torch.zeros(3, device=device)\n",
        "\n",
        "    means.requires_grad = True\n",
        "    log_scales.requires_grad = True\n",
        "    quats.requires_grad = True\n",
        "    coeffs.requires_grad = True\n",
        "    opacities.requires_grad = True\n",
        "    viewmat.requires_grad = False\n",
        "\n",
        "    fov_x = math.pi / 2.0\n",
        "    H, W, _ = crab_img.shape\n",
        "    focal = fov_to_focal(fov_x, W)\n",
        "\n",
        "    B_SIZE = 16\n",
        "\n",
        "    tensors = {\n",
        "        \"means\": means,\n",
        "        \"scales\": log_scales,\n",
        "        \"coeffs\": coeffs,\n",
        "        \"quats\": quats,\n",
        "        \"opacities\": opacities,\n",
        "    }\n",
        "    save_file(tensors, f\"./bench_{iter}.safetensors\")\n",
        "\n",
        "    start_time = time.time()\n",
        "    for _ in range(32):\n",
        "        (\n",
        "            xys,\n",
        "            depths,\n",
        "            radii,\n",
        "            conics,\n",
        "            _compensation,\n",
        "            num_tiles_hit,\n",
        "            _cov3d,\n",
        "        ) = project_gaussians(\n",
        "            means,\n",
        "            log_scales.exp(),\n",
        "            1,\n",
        "            quats,\n",
        "            viewmat,\n",
        "            focal,\n",
        "            focal,\n",
        "            W / 2,\n",
        "            H / 2,\n",
        "            H,\n",
        "            W,\n",
        "            B_SIZE,\n",
        "            0.01\n",
        "        )\n",
        "\n",
        "        viewdirs = means - viewmat[:3, 3]  # (N, 3)\n",
        "        colors = spherical_harmonics(0, viewdirs, coeffs) + 0.5\n",
        "        out_img = rasterize_gaussians(\n",
        "            xys,\n",
        "            depths,\n",
        "            radii,\n",
        "            conics,\n",
        "            num_tiles_hit,\n",
        "            colors,\n",
        "            torch.sigmoid(opacities[:, None]),\n",
        "            H,\n",
        "            W,\n",
        "            B_SIZE,\n",
        "            background,\n",
        "        )[..., :3]\n",
        "        out_img.retain_grad()\n",
        "        xys.retain_grad()\n",
        "        loss = ((out_img - crab_img) ** 2).mean()\n",
        "        loss.backward()\n",
        "\n",
        "    torch.cuda.synchronize(device)\n",
        "    end_time = time.time()\n",
        "    return end_time - start_time\n",
        "\n",
        "splat_counts = [int(2 ** n) for n in range(10, 20)]\n",
        "times = np.array([[benchmark(i, count) for i, count in enumerate(splat_counts)] for _ in range(5)])\n",
        "times = np.mean(times, axis=0)\n"
      ]
    },
    {
      "cell_type": "code",
      "execution_count": 19,
      "metadata": {},
      "outputs": [
        {
          "data": {
            "text/plain": [
              "array([0.0698885 , 0.07101674, 0.07038813, 0.08024106, 0.08029532,\n",
              "       0.07582688, 0.07729602, 0.08812799, 0.11145873, 0.16941166])"
            ]
          },
          "execution_count": 19,
          "metadata": {},
          "output_type": "execute_result"
        }
      ],
      "source": [
        "times"
      ]
    },
    {
      "cell_type": "code",
      "execution_count": 23,
      "metadata": {},
      "outputs": [],
      "source": [
        "rust_times = [\n",
        "    19.51 / 1000.0,\n",
        "    19.18 / 1000.0,\n",
        "    19.25 / 1000.0,\n",
        "    19.54 / 1000.0,\n",
        "    23.82 / 1000.0,\n",
        "    35.89 / 1000.0,\n",
        "    56.85 / 1000.0,\n",
        "    92.56 / 1000.0,\n",
        "    173.7 / 1000.0,\n",
        "    356.8 / 1000.0,\n",
        "]"
      ]
    },
    {
      "cell_type": "code",
      "execution_count": 24,
      "metadata": {},
      "outputs": [
        {
          "data": {
            "text/plain": [
              "[<matplotlib.lines.Line2D at 0x22d99391790>]"
            ]
          },
          "execution_count": 24,
          "metadata": {},
          "output_type": "execute_result"
        },
        {
          "data": {
            "image/png": "[encoded data removed]",
            "text/plain": [
              "<Figure size 640x480 with 1 Axes>"
            ]
          },
          "metadata": {},
          "output_type": "display_data"
        }
      ],
      "source": [
        "plt.plot(splat_counts, times)\n",
        "plt.plot(splat_counts, rust_times)"
      ]
    },
    {
      "cell_type": "code",
      "execution_count": null,
      "metadata": {},
      "outputs": [],
      "source": []
    }
  ],
  "metadata": {
    "accelerator": "GPU",
    "colab": {
      "gpuType": "T4",
      "provenance": []
    },
    "kernelspec": {
      "display_name": "Python 3",
      "name": "python3"
    },
    "language_info": {
      "codemirror_mode": {
        "name": "ipython",
        "version": 3
      },
      "file_extension": ".py",
      "mimetype": "text/x-python",
      "name": "python",
      "nbconvert_exporter": "python",
      "pygments_lexer": "ipython3",
      "version": "3.8.19"
    }
  },
  "nbformat": 4,
  "nbformat_minor": 0
}
